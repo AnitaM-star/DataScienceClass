{
 "cells": [
  {
   "cell_type": "code",
   "execution_count": 18,
   "metadata": {},
   "outputs": [],
   "source": [
    "import requests\n",
    "import json"
   ]
  },
  {
   "cell_type": "code",
   "execution_count": 19,
   "metadata": {
    "scrolled": false
   },
   "outputs": [
    {
     "name": "stdout",
     "output_type": "stream",
     "text": [
      "{\"categories\":[],\"imageType\":{\"clipArtType\":0,\"lineDrawingType\":0},\"description\":{\"tags\":[\"outdoor\",\"grass\",\"person\",\"young\",\"standing\",\"field\",\"holding\",\"wearing\",\"board\",\"riding\",\"woman\",\"man\",\"air\",\"flying\"],\"captions\":[{\"text\":\"a person that is standing in the grass\",\"confidence\":0.8217807256597845}]},\"requestId\":\"fa1bb74b-5d4c-4f1e-b2d6-91931c538aa4\",\"metadata\":{\"height\":420,\"width\":700,\"format\":\"Jpeg\"}}\n"
     ]
    }
   ],
   "source": [
    "url = \"https://microsoft-computer-vision3.p.rapidapi.com/analyze\"\n",
    "\n",
    "querystring = {\"language\":\"en\",\"descriptionExclude\":\"Celebrities\",\"visualFeatures\":\"ImageType,Categories,Description\",\"details\":\"Celebrities\"}\n",
    "\n",
    "payload = \"{\\r\\n    \\\"url\\\": \\\"https://neilpatel.com/wp-content/uploads/2017/09/image-editing-tools.jpg\\\"\\r\\n}\"\n",
    "headers = {\n",
    "    'content-type': \"application/json\",\n",
    "    'x-rapidapi-key': \"dacaae5850mshbcab4ca9a7b2a4dp13a15bjsnd9aaa23a2ee4\",\n",
    "    'x-rapidapi-host': \"microsoft-computer-vision3.p.rapidapi.com\"\n",
    "    }\n",
    "\n",
    "response = requests.request(\"POST\", url, data=payload, headers=headers, params=querystring)\n",
    "\n",
    "result = response.text\n",
    "print(result)"
   ]
  },
  {
   "cell_type": "code",
   "execution_count": 26,
   "metadata": {},
   "outputs": [
    {
     "data": {
      "text/plain": [
       "requests.models.Response"
      ]
     },
     "execution_count": 26,
     "metadata": {},
     "output_type": "execute_result"
    }
   ],
   "source": [
    "type(response)"
   ]
  },
  {
   "cell_type": "code",
   "execution_count": 20,
   "metadata": {},
   "outputs": [
    {
     "data": {
      "text/plain": [
       "str"
      ]
     },
     "execution_count": 20,
     "metadata": {},
     "output_type": "execute_result"
    }
   ],
   "source": [
    "type(result)"
   ]
  },
  {
   "cell_type": "code",
   "execution_count": 21,
   "metadata": {},
   "outputs": [
    {
     "name": "stdout",
     "output_type": "stream",
     "text": [
      "{'categories': [], 'imageType': {'clipArtType': 0, 'lineDrawingType': 0}, 'description': {'tags': ['outdoor', 'grass', 'person', 'young', 'standing', 'field', 'holding', 'wearing', 'board', 'riding', 'woman', 'man', 'air', 'flying'], 'captions': [{'text': 'a person that is standing in the grass', 'confidence': 0.8217807256597845}]}, 'requestId': 'fa1bb74b-5d4c-4f1e-b2d6-91931c538aa4', 'metadata': {'height': 420, 'width': 700, 'format': 'Jpeg'}}\n"
     ]
    }
   ],
   "source": [
    "data = json.loads(result)\n",
    "print(data)"
   ]
  },
  {
   "cell_type": "code",
   "execution_count": 22,
   "metadata": {},
   "outputs": [
    {
     "data": {
      "text/plain": [
       "dict"
      ]
     },
     "execution_count": 22,
     "metadata": {},
     "output_type": "execute_result"
    }
   ],
   "source": [
    "type(data)"
   ]
  },
  {
   "cell_type": "code",
   "execution_count": 27,
   "metadata": {},
   "outputs": [
    {
     "data": {
      "text/plain": [
       "'a person that is standing in the grass'"
      ]
     },
     "execution_count": 27,
     "metadata": {},
     "output_type": "execute_result"
    }
   ],
   "source": [
    "data['description']['captions'][0]['text']"
   ]
  },
  {
   "cell_type": "code",
   "execution_count": 2,
   "metadata": {},
   "outputs": [],
   "source": [
    "test = {\n",
    "   \"book\": [\n",
    "\t\n",
    "      {\n",
    "         \"id\":\"01\",\n",
    "         \"language\": \"Java\",\n",
    "         \"edition\": \"third\",\n",
    "         \"author\": \"Herbert Schildt\"\n",
    "      },\n",
    "\t\n",
    "      {\n",
    "         \"id\":\"07\",\n",
    "         \"language\": \"C++\",\n",
    "         \"edition\": \"second\",\n",
    "         \"author\": \"E.Balagurusamy\"\n",
    "      }\n",
    "   ]\n",
    "    \n",
    "}"
   ]
  },
  {
   "cell_type": "code",
   "execution_count": 3,
   "metadata": {},
   "outputs": [
    {
     "name": "stdout",
     "output_type": "stream",
     "text": [
      "{'book': [{'id': '01', 'language': 'Java', 'edition': 'third', 'author': 'Herbert Schildt'}, {'id': '07', 'language': 'C++', 'edition': 'second', 'author': 'E.Balagurusamy'}]}\n"
     ]
    }
   ],
   "source": [
    "print(test)"
   ]
  },
  {
   "cell_type": "code",
   "execution_count": 4,
   "metadata": {},
   "outputs": [
    {
     "data": {
      "text/plain": [
       "dict"
      ]
     },
     "execution_count": 4,
     "metadata": {},
     "output_type": "execute_result"
    }
   ],
   "source": [
    "type(test)"
   ]
  },
  {
   "cell_type": "code",
   "execution_count": 6,
   "metadata": {},
   "outputs": [],
   "source": [
    "winner_record = {'marks':97,'name':'Winner','distinction':True}"
   ]
  },
  {
   "cell_type": "code",
   "execution_count": 7,
   "metadata": {},
   "outputs": [
    {
     "data": {
      "text/plain": [
       "True"
      ]
     },
     "execution_count": 7,
     "metadata": {},
     "output_type": "execute_result"
    }
   ],
   "source": [
    "winner_record['distinction']"
   ]
  },
  {
   "cell_type": "code",
   "execution_count": 12,
   "metadata": {},
   "outputs": [],
   "source": [
    "records = {\n",
    "    'Maths':[\n",
    "    \n",
    "        {'marks':97,'name':'Winner','distinction':True},\n",
    "    \n",
    "        {'marks':99,'name':'Emeto','distinction':False}\n",
    "        \n",
    "    ],\n",
    "    \n",
    "    'English':[\n",
    "    \n",
    "        {'marks':97,'name':'Winner','distinction':True},\n",
    "    \n",
    "        {'marks':99,'name':'Emeto','distinction':False}\n",
    "    ]\n",
    "}"
   ]
  },
  {
   "cell_type": "code",
   "execution_count": null,
   "metadata": {},
   "outputs": [],
   "source": [
    "age = [22,'Winner',2,76,12,16]"
   ]
  },
  {
   "cell_type": "code",
   "execution_count": 13,
   "metadata": {},
   "outputs": [
    {
     "data": {
      "text/plain": [
       "False"
      ]
     },
     "execution_count": 13,
     "metadata": {},
     "output_type": "execute_result"
    }
   ],
   "source": [
    "records['Maths'][1]['distinction']"
   ]
  },
  {
   "cell_type": "code",
   "execution_count": 15,
   "metadata": {},
   "outputs": [
    {
     "name": "stdout",
     "output_type": "stream",
     "text": [
      "wrong record!\n",
      "False\n"
     ]
    }
   ],
   "source": [
    "for element in records['Maths']:\n",
    "    if element['name'] == 'Emeto':\n",
    "        print(element['distinction'])\n",
    "    else:\n",
    "        print('wrong record!')"
   ]
  },
  {
   "cell_type": "code",
   "execution_count": null,
   "metadata": {},
   "outputs": [],
   "source": [
    "{\n",
    "   \"$schema\": \"http://json-schema.org/draft-04/schema#\",\n",
    "   \"title\": \"Product\",\n",
    "   \"description\": \"A product from Acme's catalog\",\n",
    "   \"type\": \"object\",\n",
    "\t\n",
    "   \"properties\": {\n",
    "\t\n",
    "      \"id\": {\n",
    "         \"description\": \"The unique identifier for a product\",\n",
    "         \"type\": \"integer\"\n",
    "      },\n",
    "\t\t\n",
    "      \"name\": {\n",
    "         \"description\": \"Name of the product\",\n",
    "         \"type\": \"string\"\n",
    "      },\n",
    "\t\t\n",
    "      \"price\": {\n",
    "         \"type\": \"number\",\n",
    "         \"minimum\": 0,\n",
    "         \"exclusiveMinimum\": true\n",
    "      }\n",
    "   },\n",
    "\t\n",
    "   \"required\": [\"id\", \"name\", \"price\"]\n",
    "}"
   ]
  },
  {
   "cell_type": "code",
   "execution_count": null,
   "metadata": {},
   "outputs": [],
   "source": [
    "'Maths':[\n",
    "    \n",
    "        {'marks':97,'name':'Winner','distinction':True},\n",
    "    \n",
    "        {'marks':99,'name':'Emeto','distinction':False}"
   ]
  },
  {
   "cell_type": "code",
   "execution_count": null,
   "metadata": {},
   "outputs": [],
   "source": [
    "[\n",
    "   {\n",
    "      \"id\": 2,\n",
    "      \"name\": \"An ice sculpture\",\n",
    "      \"price\": 12.50,\n",
    "   },\n",
    "\t\n",
    "   {\n",
    "      \"id\": 3,\n",
    "      \"name\": \"A blue mouse\",\n",
    "      \"price\": 25.50,\n",
    "   }\n",
    "]"
   ]
  },
  {
   "cell_type": "code",
   "execution_count": 24,
   "metadata": {},
   "outputs": [
    {
     "name": "stdout",
     "output_type": "stream",
     "text": [
      "{\"Name\": \"Winner Emeto\", \"Country\": \"Nigeria\"}\n"
     ]
    }
   ],
   "source": [
    "d = {}\n",
    "d['Name'] = 'Winner Emeto'\n",
    "d['Country'] = 'Nigeria'\n",
    "\n",
    "var = json.dumps(d,ensure_ascii=False)\n",
    "print(var)"
   ]
  },
  {
   "cell_type": "code",
   "execution_count": 25,
   "metadata": {},
   "outputs": [
    {
     "data": {
      "text/plain": [
       "str"
      ]
     },
     "execution_count": 25,
     "metadata": {},
     "output_type": "execute_result"
    }
   ],
   "source": [
    "type(var)"
   ]
  },
  {
   "cell_type": "code",
   "execution_count": null,
   "metadata": {},
   "outputs": [],
   "source": []
  }
 ],
 "metadata": {
  "kernelspec": {
   "display_name": "Python 3",
   "language": "python",
   "name": "python3"
  },
  "language_info": {
   "codemirror_mode": {
    "name": "ipython",
    "version": 3
   },
   "file_extension": ".py",
   "mimetype": "text/x-python",
   "name": "python",
   "nbconvert_exporter": "python",
   "pygments_lexer": "ipython3",
   "version": "3.8.5"
  }
 },
 "nbformat": 4,
 "nbformat_minor": 4
}
